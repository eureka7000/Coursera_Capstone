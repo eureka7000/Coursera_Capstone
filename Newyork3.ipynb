{
 "cells": [
  {
   "cell_type": "markdown",
   "metadata": {},
   "source": [
    "# Decision making for opening a restaurant"
   ]
  },
  {
   "cell_type": "markdown",
   "metadata": {},
   "source": [
    "# Data"
   ]
  },
  {
   "cell_type": "markdown",
   "metadata": {},
   "source": [
    "In order to decision making for opening a restaurant, I will decide in the following order, \n",
    "first choose one of two cities, New York and Toronto, then a borough of that city and a neighborhood \n",
    "in particular borough.\n",
    "\n",
    "Overall, I used wikipedia to compare two cities, New York and Toronto, \n",
    "to determine which cities are more economically rich by comparing their population, \n",
    "population density and GDP.\n",
    "\n",
    "Also I select one city, New York and Toronto, then analyze and examine the boroughs of each city, \n",
    "examine the size of each borough neighborhoods, and select a borough in that city. \n",
    "I then use Foursquare API to examine the number of venues in the neighborhood \n",
    "and then select the neighborhood with the largest number of venues as the final candidate. \n",
    "\n",
    "Because the number of venues is so important and many people come and go, it is the best place to open the restaurant. \n",
    "In addition, we want to find out the venues related to food using Foursquare among various venues \n",
    "in the selected neighborhood and search for example korean food restaurant."
   ]
  }
 ],
 "metadata": {
  "kernelspec": {
   "display_name": "Python 3",
   "language": "python",
   "name": "python3"
  },
  "language_info": {
   "codemirror_mode": {
    "name": "ipython",
    "version": 3
   },
   "file_extension": ".py",
   "mimetype": "text/x-python",
   "name": "python",
   "nbconvert_exporter": "python",
   "pygments_lexer": "ipython3",
   "version": "3.7.4"
  }
 },
 "nbformat": 4,
 "nbformat_minor": 2
}
